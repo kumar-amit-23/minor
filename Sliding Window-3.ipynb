{
 "cells": [
  {
   "cell_type": "code",
   "execution_count": 1,
   "metadata": {},
   "outputs": [],
   "source": [
    "def sliding_window(image, stepSize, windowSize):\n",
    "\t# slide a window across the image\n",
    "\tfor y in range(0, image.shape[0], stepSize):\n",
    "\t\tfor x in range(0, image.shape[1], stepSize):\n",
    "\t\t\t# yield the current window\n",
    "\t\t\tyield (x, y, image[y:y + windowSize[1], x:x + windowSize[0]])"
   ]
  },
  {
   "cell_type": "code",
   "execution_count": 2,
   "metadata": {},
   "outputs": [],
   "source": [
    "import time\n",
    "import cv2"
   ]
  },
  {
   "cell_type": "code",
   "execution_count": 31,
   "metadata": {},
   "outputs": [],
   "source": [
    "image = cv2.imread(r\"C:\\Users\\Arpan\\dataset1\\Ori\\im18.bmp\")\n",
    "(winW, winH) = (128, 128)"
   ]
  },
  {
   "cell_type": "code",
   "execution_count": 4,
   "metadata": {},
   "outputs": [],
   "source": [
    "import hashlib\n",
    "import numpy as np"
   ]
  },
  {
   "cell_type": "code",
   "execution_count": 32,
   "metadata": {},
   "outputs": [],
   "source": [
    "hashValues=[]\n",
    "cox=[]\n",
    "coy=[]"
   ]
  },
  {
   "cell_type": "code",
   "execution_count": 33,
   "metadata": {},
   "outputs": [
    {
     "name": "stdout",
     "output_type": "stream",
     "text": [
      "['327dd3e4ace3b070b6f1d0194b02c3f8', '2d2dfff55162a7a41724a85c1f6d3050', 'dd45ecced876b85ff70fcd3ed6990c90', 'ccc9b65e5d8c8c38943a5662a5de847e', '862bf2f586aabd7ffaac9c44465b619c', '26f18e92c780cfc82bbbf7a0c790eee2', '25d1d5739c07946a37930a405e1ff918', '11d55f7ac525f7358d8c677342ee6022', 'ff2e6417240958761bf587a0e061b3fe', 'f4cc574252c779d1c6c0ab068ab02d47', 'c3719d7e328896c2b09e148d5212d232', '669628125c843b040b27918add481d3e', '5557d0254f6a0430abcd5ec3eea52044', '25bb0dc266b484e96f705c7aa30a6a47', '904f8652165b09086b5c355a9f83c1da', '4913a86030988c77497fb179a99648da', '3b8e8428c08c9264bf2b482aeceb72a2', '02cedbd00883ab9b59e8ee9ac6413b89', 'b4be70735ed47227b86031028b7dfcff', 'b76f7aa312bf247e6beb13a54cb78492', '2c9f084e995e164cd16b290f3e8428fd', 'ef8e1b07ad0bd760fc571a2e896e6aa7', '517b1dbeaede7c93da874694c97b1e75', '118406de2b6495cc8c908ab1b8c2f92b', 'cd1efe553cdff6d900923b0cf4d101c2', '2b6c6f3d5f416acf88ac8085a20f441f', '4c328205962db0a7aff3108fc8047e8f', 'b9c1d95e15a0b82d45761fc4a1d90822', 'fdd9ce1881c4190c248a5c85de460559', 'eb3ab6cf934b7e8599b2da46bcdc05a5', 'f3aa605e7bc42cf717dc13def4aaa1de', 'd7ae7460ceb6dffea9640587542f5bf8', '32852bb9567c9d8cf3c5c083ea8eb57d', '3dcd85f3a0fe6f988c3c4ba89c2eb3e7', '13ee7d56ef404d163310e3b628a2d352', 'dad92e6167cce47900dbcf5568d441cc', '01f5decc3613bf1952dc1f9742a8120a', '29fc8635a92304d9af0931ec497523ea', '5852e727687c864d55e946ad4484f411', '5e985fe3b14a94db6fb9df5e8a94bc17', '3226d47df5e3573ef4cf9c36f1aaa7d3', '493b347f28a7a2d957545c0cf22f3ed5', 'b8b0c69e2d2af3ce12ba3e308462e01c', '9c46dd1831132dc65c03b4802763fdab', '9a833b2dab2011de2075bebb09f90340', 'ed9366aee4b9b0fe47afc23fd6541cb3', 'fb8844054d718f75cea9d0495b0eca62', '7f3a8ea67722c3715d4779cd2267e341', '6ec09aadf3658f35b0874ad5fdd7c050', 'f5af39f03ad46d67f1486366d4b3a26a', '0b723d751d75893cc1e406401d6905b5', 'a5b219defe6b2956fa41a7983eee28b1', '0b670d66320c7298bf7713197384b24b', '5a5b3650f52cae9c8ea3e51b25de25c7', '6968d5b2acf143438317a45f77f8dfa6', '1c7e78905061ee5cf90e35f16ceab6eb', '86692ae49be5d46bc912969504884942', '68b5b4335ce96f069f6b4f89fbb7ac58', 'b14cb10bb405f863476476c8cedc253b', '6985325c91fdee9c197ef1122d83989d', '77e2e47a13b4b9e1975463fdda3d727b', '5dd84910d0c527c9cde87b3346a86180', '4bb9a782f25d116ada176f17065e131f', 'f1bb6cd8afc670ed921dba8a4565d203', '2e5238b1ab765c32fb5e1411a0ba0ef7', '8144250a4d970f960b560f40a64edb32', '41005c0b8ab40efe381f9b7c9cc39835', '5740446a0eb01b40134b9b36f02e5fee', 'e8463a0eaacd38e45a1593baf8ef9d4e', 'cb9a5666c54258d71c0ecd4e5c58dc93', 'f64afee2cc51b4d701941e801a1888e9', '1d8b49c3a018aee5759da10b6f53b25f', 'd4c5f561544bc60dabbc9065e80d2c1e', '1de93f824be425eeb8ed07536b0404a5', 'e7c1976caeb3c0cbf8c72d665f66d0de', 'eaa3d6e4b67a87bbdcf7ea3cc5e9412e', 'bf3c0f3e06fee5069e418968e35de34c', 'fe8cd5342eac3333d81a7d35db90af81', '793f29a3cfc8227b67a2cec6feed938f', '2b93d871823f504c9d43abaf2f481c37', '7bbbd739471e259f653e802b39926cb5', '7255ef92d409bf2f80dd5d386d578b80', '31f796c9f60d8e0288914b2f4b21896e', '3860b89cbf81c4edf908b63491156628', '2f90b4a96cca819962c175304efb7083', 'fe52b6c382c65f7c1b8e11f6ee184b90', '11ddc32e2cffad5486463fa92928bfa5', 'fc8a598c05ee4ae93ec02b0f6857da9d', '0e6c235ab8416b4363c65e020ee915e1', '79434b434b0868e591d2749b56b27cb7', 'a35bd47f19c321044f6c52dff83584d0', '739235c770b8695e6feacf879a568630', '3b428ab2d6a96827ded4a9e601d46fe4', '2c2bfc159a54d6a708f2a4b479535fbc', 'ea466d0b2ec516ae64c7103b67880388', 'f5a0efe9d797f13abe5fdc95df89df43', '6b4bd7854b731124f201b5451d68a9bb', '62f1379808021b623baf0ed0ae47ea55', '3b4011f9c65dce30fa01a2484fd7d0b2', 'cda6ad6a4916dd6d97cd901c377ceb2b', 'b2d3a882ccbb5a9a94354d8e634570a4', '159da278e56534b7e6ffc431c210a621', '41924fd9c55837e4b89f957cce4b5b5d', '17a72a51334b8dcc7293a3be87af0297', '4c651f49699cf2bf6c91ceee4b00fee3', '8975c5a3d0f65930c0bf018e63e93f5e', '9385ffea463af92335f817543d794b1d', 'ad0ec46cf112cccbceec69f55bb1aa2f', 'ae15ec3a8713dbdfc51ea26abe58de8f', '470da6c25cb12652918413e5e8ca85c3', 'fec87c45807fcbf410d015998e82bd51', '9d5d7f7210c95b5c773086537befef73', 'ef3fd30e03614228024ef1a2bb746df1', '2b00d7301173495a0ec4088a9ea238fb', '0485d4c70f2e48487de7d79916d78879', '03494bf34e10ce440cab1dc1a30a5388', 'da2f160e2f75f4dc55e94db806a7bac2', '11a13c63e66b9db8318f5a4a49418abc', 'f88a5735c3c0d0eeaeda07b79106dabd', '43a711f10543fb0d716f60432862e7c7', '396486116076549ab1decda4261b211c', 'c05d0aaa90de25d363a6c2121c32dee0', 'be6d4d71f7b8017528d307af8c6e35f8', '17af1fb8b1615d60f48b62214f1413b5', 'b7e07acf15039f5d9cd7aa2690ff4d32', '53fcfb05789ff04f624e641f5cb30e42', 'f69ef54414ec56fcf35f1a8306829c13', 'e246111594782dbc26c8f0021899de78', '9cf2434e9f002111e6576b2f5fcfd94a', 'cc39d7e43b477da1818302206d4fcdd7', '9a9494446405cf3c1a9b64b20d4b3182', '904f7abc2e314db2adfac11d7cd16420', '33b54699dd281e93d1db0ef875f47dc5', 'a36e0b3ddc3f773afbfb2ad2f00777d8', '4318bb0631307bc51237cd9c7466bc7d', 'd69322742006d6f24570a0db6fe4dd81', '2a417b7564397f8eee1c489800d29ad6', '05ffae0aabf011f44e74b366a02f6fc4', 'b6ca0487b4f8cf6bea189929d2ee67dd', '58da09db3b8b1d9dfb9dde91fcba74b8', 'e2504af33295bb06de772eb3a65e2ec5', 'c2e2f46408069d5d028d04219986c341', '46e6ded384bb70cd4e97dd200751f9e3', '65336b507da99f92e8db26bb1e493934', '68b33f5db18ba3e7464b073850e514f8', 'e6c5ef0ae870650637ca70d7169afd86', '3174eea5c05430b8266e1359e75c6784', 'd238aa014251e40ab7c5935af0589e2b', 'fa8c2c23e135b2b575e36a9eaa252532', '2b6076f638ae7bce332c3272702307dc', '62616ce84f0797c61d0391a04bec1acc', 'e53cda946f20dcc5113497a0b7a6ab6c', 'd2a9a53d8e139487e2767a6a8b763c4d', 'a48286cf3c8f2211d0827dea364f0e90', 'e7843ab93e52f7b9508fd49fd2f2a47f', '67fb849574c5551332d92df34d25ed1a', '6ecf58edb8e4765b703852756d8d9fa6', 'b2d0ba3ff6546d6dfb64ccc9b05e5133', '558ccb7d10b56c13186055dfb3575374', 'd10bd52ff69210313f12022ec18d215d', '5f114e2b074cded97fe072dd54b75dbb', '3d5b6edaa7de9220256bbbd6dd320142', '813a773a20e6fb5a59f21dc590e693de', '7f90456afbc182e695770c1fea3a8516', '04334109cb7fd9b5a6fd10e932a0390e', 'e5b4bd46231d66f36c260ea62ae0023a', '258eeb9b468d900151a6b006ec1a5058', '077703db585d42d13552c5bbabe768a3', '2912267f2f48830f85878208bb4fe2f8', '80c4520fe1b40c37b2208dd0c815038e', 'c257581851f67d972c37a1062c7ca3dc', '0e87caeec6cc4c69607039d6fd1a7212', 'cf48c2ade570868951d8069dd93d0b60', '1aee54f67a09f62941d1381a021cce25', '07c9f8c355c010e5b4cbea45db2c19f7', 'ea5776cb7851afd91dfd2ea8535234ae', '350d4aed5ee956cae86d71440d2d8ef9', 'a6c68f8fa580ab9e05086ebf9ff1ae9a', 'c35218be3cdfe282fde9c6b74955983b', 'cc3f17116e658a407b7249fee4f0f62a', '60436254703a320f313273bc46ed017c', 'bc6cc3a1fecb984c65e489487b15e90d']\n"
     ]
    }
   ],
   "source": [
    "for (x, y, window) in sliding_window(image, stepSize=32, windowSize=(winW, winH)):\n",
    "        if window.shape[0] != winH or window.shape[1] != winW:\n",
    "            filehash = hashlib.md5(np.ascontiguousarray(window)).hexdigest()\n",
    "            hashValues.append(filehash)\n",
    "            cox.append(x)\n",
    "            coy.append(y)\n",
    "        clone = image.copy()\n",
    "        cv2.rectangle(clone, (x, y), (x + winW, y + winH), (0, 255, 0), 2)\n",
    "        cv2.imshow(\"Window\", clone)\n",
    "        cv2.waitKey(1)\n",
    "        time.sleep(0.09)\n",
    "print(hashValues)"
   ]
  },
  {
   "cell_type": "code",
   "execution_count": 34,
   "metadata": {},
   "outputs": [],
   "source": [
    "image1 = cv2.imread(r\"C:\\Users\\Arpan\\dataset1\\Test\\Mask\\im18_t.bmp\")"
   ]
  },
  {
   "cell_type": "code",
   "execution_count": 35,
   "metadata": {},
   "outputs": [],
   "source": [
    "def sliding_windoww(image1, stepSize, windowSize):\n",
    "\t# slide a window across the image\n",
    "\tfor y in range(0, image1.shape[0], stepSize):\n",
    "\t\tfor x in range(0, image1.shape[1], stepSize):\n",
    "\t\t\t# yield the current window\n",
    "\t\t\tyield (x, y, image1[y:y + windowSize[1], x:x + windowSize[0]])"
   ]
  },
  {
   "cell_type": "code",
   "execution_count": 36,
   "metadata": {},
   "outputs": [],
   "source": [
    "hashvalues2=[]"
   ]
  },
  {
   "cell_type": "code",
   "execution_count": 37,
   "metadata": {},
   "outputs": [
    {
     "name": "stdout",
     "output_type": "stream",
     "text": [
      "['327dd3e4ace3b070b6f1d0194b02c3f8', '2d2dfff55162a7a41724a85c1f6d3050', 'dd45ecced876b85ff70fcd3ed6990c90', 'ccc9b65e5d8c8c38943a5662a5de847e', '862bf2f586aabd7ffaac9c44465b619c', '26f18e92c780cfc82bbbf7a0c790eee2', '25d1d5739c07946a37930a405e1ff918', '11d55f7ac525f7358d8c677342ee6022', 'ff2e6417240958761bf587a0e061b3fe', 'f4cc574252c779d1c6c0ab068ab02d47', 'c3719d7e328896c2b09e148d5212d232', '669628125c843b040b27918add481d3e', '5557d0254f6a0430abcd5ec3eea52044', '25bb0dc266b484e96f705c7aa30a6a47', '904f8652165b09086b5c355a9f83c1da', '4913a86030988c77497fb179a99648da', '3b8e8428c08c9264bf2b482aeceb72a2', '02cedbd00883ab9b59e8ee9ac6413b89', 'b4be70735ed47227b86031028b7dfcff', 'b76f7aa312bf247e6beb13a54cb78492', '2c9f084e995e164cd16b290f3e8428fd', 'ef8e1b07ad0bd760fc571a2e896e6aa7', '517b1dbeaede7c93da874694c97b1e75', '118406de2b6495cc8c908ab1b8c2f92b', 'cd1efe553cdff6d900923b0cf4d101c2', '2b6c6f3d5f416acf88ac8085a20f441f', '4c328205962db0a7aff3108fc8047e8f', 'b9c1d95e15a0b82d45761fc4a1d90822', 'fdd9ce1881c4190c248a5c85de460559', 'eb3ab6cf934b7e8599b2da46bcdc05a5', 'f3aa605e7bc42cf717dc13def4aaa1de', 'd7ae7460ceb6dffea9640587542f5bf8', 'd742468041c6939d429eb1c00834ee6c', '3dcd85f3a0fe6f988c3c4ba89c2eb3e7', '13ee7d56ef404d163310e3b628a2d352', 'dad92e6167cce47900dbcf5568d441cc', '63b0e5036e6c93fdc7eb9ea48bea937d', 'c3c736f40e48ce977a6ebaa8e9ebf2af', '5852e727687c864d55e946ad4484f411', '5e985fe3b14a94db6fb9df5e8a94bc17', '6db90c72c2acc8b645adfe6cda6b9616', 'be8309990e6302810c70f95dbbf98aff', 'b8b0c69e2d2af3ce12ba3e308462e01c', '9c46dd1831132dc65c03b4802763fdab', '6a73d61b6dbc18f12c3a81040923978d', '6f91e50675898ea4e8e3fbdbdc929ea0', 'fb8844054d718f75cea9d0495b0eca62', '7f3a8ea67722c3715d4779cd2267e341', '85a478f660d034902df3bb92c661d4c4', 'e7e1e588729eb163defb881318aedd17', '0b723d751d75893cc1e406401d6905b5', 'a5b219defe6b2956fa41a7983eee28b1', 'd7ef707d9179c7910ed1c0de73df7467', '1d01c75aad551e393445659c305c3371', '6968d5b2acf143438317a45f77f8dfa6', '1c7e78905061ee5cf90e35f16ceab6eb', '55e1941a744723f23e1126d3fddf936b', '3f746a09023792fcfa4760aaf099b492', 'b14cb10bb405f863476476c8cedc253b', '6985325c91fdee9c197ef1122d83989d', 'e3c85ba232517f510bb39803664e2882', '3df276cd0c977bbf42ca313196008736', '4bb9a782f25d116ada176f17065e131f', 'f1bb6cd8afc670ed921dba8a4565d203', 'dfeb5c90620637ebe6f7be2bc5882eaf', 'b398919e59d4c9e2196c6401a8738e33', '41005c0b8ab40efe381f9b7c9cc39835', '5740446a0eb01b40134b9b36f02e5fee', 'dc84a6bef5075fd389c0af5503b5de56', '99c9a5c7efd6ed2348d73ee472de7c79', 'f64afee2cc51b4d701941e801a1888e9', '1d8b49c3a018aee5759da10b6f53b25f', '188bbba8c66c33111c546a4049509434', '6a86d8b8b8f03589ddacad991743cf5f', 'e7c1976caeb3c0cbf8c72d665f66d0de', 'eaa3d6e4b67a87bbdcf7ea3cc5e9412e', 'daa2e0ec590c2ab73e72c54e6c8e320a', '09dfff92bf9f1f53e4111e15a706007f', '793f29a3cfc8227b67a2cec6feed938f', '2b93d871823f504c9d43abaf2f481c37', '71509222de4d52c9509ed8fe062deb0d', 'd53ab04734ac8c72d6b4ea7ed3abb9b8', '31f796c9f60d8e0288914b2f4b21896e', '3860b89cbf81c4edf908b63491156628', '0b2be4cb9688a4565308f1c6a7c469b9', 'a1973f36129a272f2806bf19906bd3c5', '11ddc32e2cffad5486463fa92928bfa5', 'fc8a598c05ee4ae93ec02b0f6857da9d', '5224cade2d8687de776440b4199216ee', 'acf1970791ad4efff514b84fd8d8b9f5', 'a35bd47f19c321044f6c52dff83584d0', '739235c770b8695e6feacf879a568630', '956a924179e67bb1c99aadcda0ce5b65', '00ede60823a0e75bb6ade74f9c26d88e', 'ea466d0b2ec516ae64c7103b67880388', 'f5a0efe9d797f13abe5fdc95df89df43', '60a8daa0f2f282e5253c7200fde311ae', '6de26cf177767941b11d52d65bdecfb4', '3b4011f9c65dce30fa01a2484fd7d0b2', 'cda6ad6a4916dd6d97cd901c377ceb2b', '3e71049fae67590d7bdd04a1f52d59cc', '01bfc6808e58de8568eca9da8d90c997', '41924fd9c55837e4b89f957cce4b5b5d', '17a72a51334b8dcc7293a3be87af0297', '9232585f60f583cf4ab9a6664d25a5ea', 'e50cb56e9d64dc85fbddb5a81506256d', '9385ffea463af92335f817543d794b1d', 'ad0ec46cf112cccbceec69f55bb1aa2f', '815487b4755842b2c258e03b395d3d4a', '940b5a8e6f0e9743c1450d00d36ee60e', 'fec87c45807fcbf410d015998e82bd51', '9d5d7f7210c95b5c773086537befef73', 'ef3fd30e03614228024ef1a2bb746df1', '2b00d7301173495a0ec4088a9ea238fb', '0485d4c70f2e48487de7d79916d78879', '03494bf34e10ce440cab1dc1a30a5388', 'da2f160e2f75f4dc55e94db806a7bac2', '11a13c63e66b9db8318f5a4a49418abc', 'f88a5735c3c0d0eeaeda07b79106dabd', '43a711f10543fb0d716f60432862e7c7', '396486116076549ab1decda4261b211c', 'c05d0aaa90de25d363a6c2121c32dee0', 'be6d4d71f7b8017528d307af8c6e35f8', '17af1fb8b1615d60f48b62214f1413b5', 'b7e07acf15039f5d9cd7aa2690ff4d32', '53fcfb05789ff04f624e641f5cb30e42', 'f69ef54414ec56fcf35f1a8306829c13', 'e246111594782dbc26c8f0021899de78', '9cf2434e9f002111e6576b2f5fcfd94a', 'cc39d7e43b477da1818302206d4fcdd7', '9a9494446405cf3c1a9b64b20d4b3182', '904f7abc2e314db2adfac11d7cd16420', '33b54699dd281e93d1db0ef875f47dc5', 'a36e0b3ddc3f773afbfb2ad2f00777d8', '4318bb0631307bc51237cd9c7466bc7d', 'd69322742006d6f24570a0db6fe4dd81', '2a417b7564397f8eee1c489800d29ad6', '05ffae0aabf011f44e74b366a02f6fc4', 'b6ca0487b4f8cf6bea189929d2ee67dd', '58da09db3b8b1d9dfb9dde91fcba74b8', 'e2504af33295bb06de772eb3a65e2ec5', 'c2e2f46408069d5d028d04219986c341', '46e6ded384bb70cd4e97dd200751f9e3', '65336b507da99f92e8db26bb1e493934', '68b33f5db18ba3e7464b073850e514f8', 'e6c5ef0ae870650637ca70d7169afd86', '3174eea5c05430b8266e1359e75c6784', 'd238aa014251e40ab7c5935af0589e2b', 'fa8c2c23e135b2b575e36a9eaa252532', '2b6076f638ae7bce332c3272702307dc', '62616ce84f0797c61d0391a04bec1acc', 'e53cda946f20dcc5113497a0b7a6ab6c', 'd2a9a53d8e139487e2767a6a8b763c4d', 'a48286cf3c8f2211d0827dea364f0e90', 'e7843ab93e52f7b9508fd49fd2f2a47f', '67fb849574c5551332d92df34d25ed1a', '6ecf58edb8e4765b703852756d8d9fa6', 'b2d0ba3ff6546d6dfb64ccc9b05e5133', '558ccb7d10b56c13186055dfb3575374', 'd10bd52ff69210313f12022ec18d215d', '5f114e2b074cded97fe072dd54b75dbb', '3d5b6edaa7de9220256bbbd6dd320142', '813a773a20e6fb5a59f21dc590e693de', '7f90456afbc182e695770c1fea3a8516', '04334109cb7fd9b5a6fd10e932a0390e', 'e5b4bd46231d66f36c260ea62ae0023a', '258eeb9b468d900151a6b006ec1a5058', '077703db585d42d13552c5bbabe768a3', '2912267f2f48830f85878208bb4fe2f8', '80c4520fe1b40c37b2208dd0c815038e', 'c257581851f67d972c37a1062c7ca3dc', '0e87caeec6cc4c69607039d6fd1a7212', 'cf48c2ade570868951d8069dd93d0b60', '1aee54f67a09f62941d1381a021cce25', '07c9f8c355c010e5b4cbea45db2c19f7', 'ea5776cb7851afd91dfd2ea8535234ae', '350d4aed5ee956cae86d71440d2d8ef9', 'a6c68f8fa580ab9e05086ebf9ff1ae9a', 'c35218be3cdfe282fde9c6b74955983b', 'cc3f17116e658a407b7249fee4f0f62a', '60436254703a320f313273bc46ed017c', 'bc6cc3a1fecb984c65e489487b15e90d']\n"
     ]
    }
   ],
   "source": [
    "i=0\n",
    "for (x, y, window) in sliding_windoww(image1, stepSize=32, windowSize=(winW, winH)):\n",
    "        if window.shape[0] != winH or window.shape[1] != winW:\n",
    "            filehash = hashlib.md5(np.ascontiguousarray(window)).hexdigest()\n",
    "            if filehash != hashValues[i]:\n",
    "                cv2.rectangle(image1, (x, y), (x - winW, y - winH), (0, 255, 0), 2)\n",
    "                i=i+1\n",
    "            else:\n",
    "                i=i+1\n",
    "            hashvalues2.append(filehash)\n",
    "            \n",
    "        clone = image1.copy()\n",
    "        cv2.rectangle(clone, (x, y), (x + winW, y + winH), (0, 255, 0), 2)\n",
    "        \n",
    "        cv2.imshow(\"Window\", clone)\n",
    "        cv2.imshow(\"Windoww\", image1)\n",
    "        cv2.waitKey(1)\n",
    "        time.sleep(0.09)\n",
    "print(hashvalues2)"
   ]
  },
  {
   "cell_type": "code",
   "execution_count": 29,
   "metadata": {},
   "outputs": [
    {
     "name": "stdout",
     "output_type": "stream",
     "text": [
      "182\n",
      "182\n"
     ]
    }
   ],
   "source": [
    "print(len(hashValues))\n",
    "print(len(hashvalues2))"
   ]
  },
  {
   "cell_type": "code",
   "execution_count": 30,
   "metadata": {},
   "outputs": [
    {
     "name": "stdout",
     "output_type": "stream",
     "text": [
      "60d2a7fb068d59df5c786ee3ec546015 30\n",
      "822d2334ad8a019bbdb4f26ff8c25cb3 33\n",
      "787889536e49a1283e2f0cf03526e430 36\n",
      "b94418208579e7637d573b1912437174 39\n",
      "37d8409471396cefa992b09b63c9d3b1 42\n",
      "018b5e87473c4e771aa3494fd2d7fda7 45\n",
      "25e22273f7652a9723d09f0235b5a75f 48\n",
      "175\n"
     ]
    }
   ],
   "source": [
    "count=0\n",
    "for i in range(0,182):\n",
    "    if hashValues[i]!=hashvalues2[i]:\n",
    "        print(hashValues[i],i)\n",
    "    else:\n",
    "        count=count+1\n",
    "print(count)"
   ]
  },
  {
   "cell_type": "code",
   "execution_count": null,
   "metadata": {},
   "outputs": [],
   "source": []
  }
 ],
 "metadata": {
  "kernelspec": {
   "display_name": "Python 3",
   "language": "python",
   "name": "python3"
  },
  "language_info": {
   "codemirror_mode": {
    "name": "ipython",
    "version": 3
   },
   "file_extension": ".py",
   "mimetype": "text/x-python",
   "name": "python",
   "nbconvert_exporter": "python",
   "pygments_lexer": "ipython3",
   "version": "3.7.6"
  }
 },
 "nbformat": 4,
 "nbformat_minor": 4
}
